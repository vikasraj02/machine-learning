{
 "cells": [
  {
   "cell_type": "markdown",
   "id": "ba7b3b76",
   "metadata": {},
   "source": [
    "# Importing required libraries"
   ]
  },
  {
   "cell_type": "code",
   "execution_count": 1,
   "id": "35fc7244",
   "metadata": {},
   "outputs": [],
   "source": [
    "import pandas as pd\n",
    "import numpy as np\n",
    "import sklearn\n",
    "import plotly.express as px"
   ]
  },
  {
   "cell_type": "markdown",
   "id": "2b9f367d",
   "metadata": {},
   "source": [
    "# loading the data"
   ]
  },
  {
   "cell_type": "code",
   "execution_count": 2,
   "id": "0185f4e1",
   "metadata": {},
   "outputs": [],
   "source": [
    "df = pd.read_csv(\"C:/Users/vikas/Downloads/credit_risk_dataset.csv\")"
   ]
  },
  {
   "cell_type": "markdown",
   "id": "8c217f3f",
   "metadata": {},
   "source": [
    "##### Info about dataset"
   ]
  },
  {
   "cell_type": "code",
   "execution_count": 3,
   "id": "91966e5c",
   "metadata": {},
   "outputs": [
    {
     "data": {
      "text/html": [
       "<div>\n",
       "<style scoped>\n",
       "    .dataframe tbody tr th:only-of-type {\n",
       "        vertical-align: middle;\n",
       "    }\n",
       "\n",
       "    .dataframe tbody tr th {\n",
       "        vertical-align: top;\n",
       "    }\n",
       "\n",
       "    .dataframe thead th {\n",
       "        text-align: right;\n",
       "    }\n",
       "</style>\n",
       "<table border=\"1\" class=\"dataframe\">\n",
       "  <thead>\n",
       "    <tr style=\"text-align: right;\">\n",
       "      <th></th>\n",
       "      <th>person_age</th>\n",
       "      <th>person_income</th>\n",
       "      <th>person_home_ownership</th>\n",
       "      <th>person_emp_length</th>\n",
       "      <th>loan_intent</th>\n",
       "      <th>loan_grade</th>\n",
       "      <th>loan_amnt</th>\n",
       "      <th>loan_int_rate</th>\n",
       "      <th>loan_status</th>\n",
       "      <th>loan_percent_income</th>\n",
       "      <th>cb_person_default_on_file</th>\n",
       "      <th>cb_person_cred_hist_length</th>\n",
       "    </tr>\n",
       "  </thead>\n",
       "  <tbody>\n",
       "    <tr>\n",
       "      <th>0</th>\n",
       "      <td>22</td>\n",
       "      <td>59000</td>\n",
       "      <td>RENT</td>\n",
       "      <td>123.0</td>\n",
       "      <td>PERSONAL</td>\n",
       "      <td>D</td>\n",
       "      <td>35000</td>\n",
       "      <td>16.02</td>\n",
       "      <td>1</td>\n",
       "      <td>0.59</td>\n",
       "      <td>Y</td>\n",
       "      <td>3</td>\n",
       "    </tr>\n",
       "    <tr>\n",
       "      <th>1</th>\n",
       "      <td>21</td>\n",
       "      <td>9600</td>\n",
       "      <td>OWN</td>\n",
       "      <td>5.0</td>\n",
       "      <td>EDUCATION</td>\n",
       "      <td>B</td>\n",
       "      <td>1000</td>\n",
       "      <td>11.14</td>\n",
       "      <td>0</td>\n",
       "      <td>0.10</td>\n",
       "      <td>N</td>\n",
       "      <td>2</td>\n",
       "    </tr>\n",
       "    <tr>\n",
       "      <th>2</th>\n",
       "      <td>25</td>\n",
       "      <td>9600</td>\n",
       "      <td>MORTGAGE</td>\n",
       "      <td>1.0</td>\n",
       "      <td>MEDICAL</td>\n",
       "      <td>C</td>\n",
       "      <td>5500</td>\n",
       "      <td>12.87</td>\n",
       "      <td>1</td>\n",
       "      <td>0.57</td>\n",
       "      <td>N</td>\n",
       "      <td>3</td>\n",
       "    </tr>\n",
       "    <tr>\n",
       "      <th>3</th>\n",
       "      <td>23</td>\n",
       "      <td>65500</td>\n",
       "      <td>RENT</td>\n",
       "      <td>4.0</td>\n",
       "      <td>MEDICAL</td>\n",
       "      <td>C</td>\n",
       "      <td>35000</td>\n",
       "      <td>15.23</td>\n",
       "      <td>1</td>\n",
       "      <td>0.53</td>\n",
       "      <td>N</td>\n",
       "      <td>2</td>\n",
       "    </tr>\n",
       "    <tr>\n",
       "      <th>4</th>\n",
       "      <td>24</td>\n",
       "      <td>54400</td>\n",
       "      <td>RENT</td>\n",
       "      <td>8.0</td>\n",
       "      <td>MEDICAL</td>\n",
       "      <td>C</td>\n",
       "      <td>35000</td>\n",
       "      <td>14.27</td>\n",
       "      <td>1</td>\n",
       "      <td>0.55</td>\n",
       "      <td>Y</td>\n",
       "      <td>4</td>\n",
       "    </tr>\n",
       "  </tbody>\n",
       "</table>\n",
       "</div>"
      ],
      "text/plain": [
       "   person_age  person_income person_home_ownership  person_emp_length  \\\n",
       "0          22          59000                  RENT              123.0   \n",
       "1          21           9600                   OWN                5.0   \n",
       "2          25           9600              MORTGAGE                1.0   \n",
       "3          23          65500                  RENT                4.0   \n",
       "4          24          54400                  RENT                8.0   \n",
       "\n",
       "  loan_intent loan_grade  loan_amnt  loan_int_rate  loan_status  \\\n",
       "0    PERSONAL          D      35000          16.02            1   \n",
       "1   EDUCATION          B       1000          11.14            0   \n",
       "2     MEDICAL          C       5500          12.87            1   \n",
       "3     MEDICAL          C      35000          15.23            1   \n",
       "4     MEDICAL          C      35000          14.27            1   \n",
       "\n",
       "   loan_percent_income cb_person_default_on_file  cb_person_cred_hist_length  \n",
       "0                 0.59                         Y                           3  \n",
       "1                 0.10                         N                           2  \n",
       "2                 0.57                         N                           3  \n",
       "3                 0.53                         N                           2  \n",
       "4                 0.55                         Y                           4  "
      ]
     },
     "execution_count": 3,
     "metadata": {},
     "output_type": "execute_result"
    }
   ],
   "source": [
    "df.head()"
   ]
  },
  {
   "cell_type": "code",
   "execution_count": 4,
   "id": "a2e208f1",
   "metadata": {},
   "outputs": [
    {
     "name": "stdout",
     "output_type": "stream",
     "text": [
      "<class 'pandas.core.frame.DataFrame'>\n",
      "RangeIndex: 32581 entries, 0 to 32580\n",
      "Data columns (total 12 columns):\n",
      " #   Column                      Non-Null Count  Dtype  \n",
      "---  ------                      --------------  -----  \n",
      " 0   person_age                  32581 non-null  int64  \n",
      " 1   person_income               32581 non-null  int64  \n",
      " 2   person_home_ownership       32581 non-null  object \n",
      " 3   person_emp_length           31686 non-null  float64\n",
      " 4   loan_intent                 32581 non-null  object \n",
      " 5   loan_grade                  32581 non-null  object \n",
      " 6   loan_amnt                   32581 non-null  int64  \n",
      " 7   loan_int_rate               29465 non-null  float64\n",
      " 8   loan_status                 32581 non-null  int64  \n",
      " 9   loan_percent_income         32581 non-null  float64\n",
      " 10  cb_person_default_on_file   32581 non-null  object \n",
      " 11  cb_person_cred_hist_length  32581 non-null  int64  \n",
      "dtypes: float64(3), int64(5), object(4)\n",
      "memory usage: 3.0+ MB\n"
     ]
    }
   ],
   "source": [
    "df.info()"
   ]
  },
  {
   "cell_type": "code",
   "execution_count": 22,
   "id": "b93c1d2c",
   "metadata": {},
   "outputs": [
    {
     "data": {
      "text/plain": [
       "(32581, 11)"
      ]
     },
     "execution_count": 22,
     "metadata": {},
     "output_type": "execute_result"
    }
   ],
   "source": [
    "df.shape"
   ]
  },
  {
   "cell_type": "code",
   "execution_count": 6,
   "id": "3a8a59a5",
   "metadata": {},
   "outputs": [
    {
     "data": {
      "text/plain": [
       "390972"
      ]
     },
     "execution_count": 6,
     "metadata": {},
     "output_type": "execute_result"
    }
   ],
   "source": [
    "df.size"
   ]
  },
  {
   "cell_type": "markdown",
   "id": "77b63b98",
   "metadata": {},
   "source": [
    "### Data cleaning "
   ]
  },
  {
   "cell_type": "code",
   "execution_count": 7,
   "id": "d8bb25be",
   "metadata": {},
   "outputs": [],
   "source": [
    "df[\"loan_int_rate\"].fillna(df[\"loan_int_rate\"].median(),inplace=True)"
   ]
  },
  {
   "cell_type": "code",
   "execution_count": 8,
   "id": "3e30b134",
   "metadata": {},
   "outputs": [],
   "source": [
    "df['person_emp_length'].fillna(4.0,inplace=True)"
   ]
  },
  {
   "cell_type": "code",
   "execution_count": 9,
   "id": "fb32fdab",
   "metadata": {},
   "outputs": [
    {
     "data": {
      "text/plain": [
       "person_age                    0\n",
       "person_income                 0\n",
       "person_home_ownership         0\n",
       "person_emp_length             0\n",
       "loan_intent                   0\n",
       "loan_grade                    0\n",
       "loan_amnt                     0\n",
       "loan_int_rate                 0\n",
       "loan_status                   0\n",
       "loan_percent_income           0\n",
       "cb_person_default_on_file     0\n",
       "cb_person_cred_hist_length    0\n",
       "dtype: int64"
      ]
     },
     "execution_count": 9,
     "metadata": {},
     "output_type": "execute_result"
    }
   ],
   "source": [
    "df.isnull().sum()"
   ]
  },
  {
   "cell_type": "code",
   "execution_count": 19,
   "id": "1beb6f32",
   "metadata": {},
   "outputs": [],
   "source": [
    "df.drop('cb_person_cred_hist_length', axis = 1, inplace=True)"
   ]
  },
  {
   "cell_type": "markdown",
   "id": "f6305c9a",
   "metadata": {},
   "source": [
    "# Identify the target variable"
   ]
  },
  {
   "cell_type": "code",
   "execution_count": 20,
   "id": "0697107e",
   "metadata": {},
   "outputs": [],
   "source": [
    "x = df[['person_age', 'person_income', 'person_home_ownership','person_emp_length', 'loan_intent', 'loan_grade', 'loan_amnt','loan_int_rate', 'loan_percent_income','cb_person_default_on_file']]\n",
    "\n",
    "y = df[\"loan_status\"]"
   ]
  },
  {
   "cell_type": "code",
   "execution_count": 21,
   "id": "50a398d4",
   "metadata": {},
   "outputs": [],
   "source": [
    "from sklearn.model_selection import train_test_split\n",
    "x_train, x_test, y_train, y_test = train_test_split(x,y,train_size=0.75,random_state=100)"
   ]
  },
  {
   "cell_type": "code",
   "execution_count": 23,
   "id": "11429a50",
   "metadata": {},
   "outputs": [
    {
     "data": {
      "text/html": [
       "<div>\n",
       "<style scoped>\n",
       "    .dataframe tbody tr th:only-of-type {\n",
       "        vertical-align: middle;\n",
       "    }\n",
       "\n",
       "    .dataframe tbody tr th {\n",
       "        vertical-align: top;\n",
       "    }\n",
       "\n",
       "    .dataframe thead th {\n",
       "        text-align: right;\n",
       "    }\n",
       "</style>\n",
       "<table border=\"1\" class=\"dataframe\">\n",
       "  <thead>\n",
       "    <tr style=\"text-align: right;\">\n",
       "      <th></th>\n",
       "      <th>person_age</th>\n",
       "      <th>person_income</th>\n",
       "      <th>person_home_ownership</th>\n",
       "      <th>person_emp_length</th>\n",
       "      <th>loan_intent</th>\n",
       "      <th>loan_grade</th>\n",
       "      <th>loan_amnt</th>\n",
       "      <th>loan_int_rate</th>\n",
       "      <th>loan_percent_income</th>\n",
       "      <th>cb_person_default_on_file</th>\n",
       "    </tr>\n",
       "  </thead>\n",
       "  <tbody>\n",
       "    <tr>\n",
       "      <th>2009</th>\n",
       "      <td>26</td>\n",
       "      <td>37000</td>\n",
       "      <td>RENT</td>\n",
       "      <td>0.0</td>\n",
       "      <td>PERSONAL</td>\n",
       "      <td>B</td>\n",
       "      <td>14000</td>\n",
       "      <td>9.88</td>\n",
       "      <td>0.38</td>\n",
       "      <td>N</td>\n",
       "    </tr>\n",
       "    <tr>\n",
       "      <th>24210</th>\n",
       "      <td>35</td>\n",
       "      <td>70000</td>\n",
       "      <td>OWN</td>\n",
       "      <td>6.0</td>\n",
       "      <td>VENTURE</td>\n",
       "      <td>B</td>\n",
       "      <td>17000</td>\n",
       "      <td>9.88</td>\n",
       "      <td>0.24</td>\n",
       "      <td>N</td>\n",
       "    </tr>\n",
       "    <tr>\n",
       "      <th>22659</th>\n",
       "      <td>29</td>\n",
       "      <td>42000</td>\n",
       "      <td>RENT</td>\n",
       "      <td>0.0</td>\n",
       "      <td>EDUCATION</td>\n",
       "      <td>C</td>\n",
       "      <td>7500</td>\n",
       "      <td>12.87</td>\n",
       "      <td>0.18</td>\n",
       "      <td>Y</td>\n",
       "    </tr>\n",
       "    <tr>\n",
       "      <th>15764</th>\n",
       "      <td>22</td>\n",
       "      <td>166000</td>\n",
       "      <td>MORTGAGE</td>\n",
       "      <td>1.0</td>\n",
       "      <td>EDUCATION</td>\n",
       "      <td>B</td>\n",
       "      <td>23450</td>\n",
       "      <td>11.36</td>\n",
       "      <td>0.14</td>\n",
       "      <td>N</td>\n",
       "    </tr>\n",
       "    <tr>\n",
       "      <th>11378</th>\n",
       "      <td>26</td>\n",
       "      <td>57800</td>\n",
       "      <td>MORTGAGE</td>\n",
       "      <td>0.0</td>\n",
       "      <td>MEDICAL</td>\n",
       "      <td>D</td>\n",
       "      <td>15000</td>\n",
       "      <td>10.99</td>\n",
       "      <td>0.22</td>\n",
       "      <td>Y</td>\n",
       "    </tr>\n",
       "  </tbody>\n",
       "</table>\n",
       "</div>"
      ],
      "text/plain": [
       "       person_age  person_income person_home_ownership  person_emp_length  \\\n",
       "2009           26          37000                  RENT                0.0   \n",
       "24210          35          70000                   OWN                6.0   \n",
       "22659          29          42000                  RENT                0.0   \n",
       "15764          22         166000              MORTGAGE                1.0   \n",
       "11378          26          57800              MORTGAGE                0.0   \n",
       "\n",
       "      loan_intent loan_grade  loan_amnt  loan_int_rate  loan_percent_income  \\\n",
       "2009     PERSONAL          B      14000           9.88                 0.38   \n",
       "24210     VENTURE          B      17000           9.88                 0.24   \n",
       "22659   EDUCATION          C       7500          12.87                 0.18   \n",
       "15764   EDUCATION          B      23450          11.36                 0.14   \n",
       "11378     MEDICAL          D      15000          10.99                 0.22   \n",
       "\n",
       "      cb_person_default_on_file  \n",
       "2009                          N  \n",
       "24210                         N  \n",
       "22659                         Y  \n",
       "15764                         N  \n",
       "11378                         Y  "
      ]
     },
     "execution_count": 23,
     "metadata": {},
     "output_type": "execute_result"
    }
   ],
   "source": [
    "x_train.head()"
   ]
  },
  {
   "cell_type": "code",
   "execution_count": 24,
   "id": "16141b19",
   "metadata": {},
   "outputs": [
    {
     "data": {
      "text/html": [
       "<div>\n",
       "<style scoped>\n",
       "    .dataframe tbody tr th:only-of-type {\n",
       "        vertical-align: middle;\n",
       "    }\n",
       "\n",
       "    .dataframe tbody tr th {\n",
       "        vertical-align: top;\n",
       "    }\n",
       "\n",
       "    .dataframe thead th {\n",
       "        text-align: right;\n",
       "    }\n",
       "</style>\n",
       "<table border=\"1\" class=\"dataframe\">\n",
       "  <thead>\n",
       "    <tr style=\"text-align: right;\">\n",
       "      <th></th>\n",
       "      <th>person_age</th>\n",
       "      <th>person_income</th>\n",
       "      <th>person_home_ownership</th>\n",
       "      <th>person_emp_length</th>\n",
       "      <th>loan_intent</th>\n",
       "      <th>loan_grade</th>\n",
       "      <th>loan_amnt</th>\n",
       "      <th>loan_int_rate</th>\n",
       "      <th>loan_percent_income</th>\n",
       "      <th>cb_person_default_on_file</th>\n",
       "    </tr>\n",
       "  </thead>\n",
       "  <tbody>\n",
       "    <tr>\n",
       "      <th>10775</th>\n",
       "      <td>25</td>\n",
       "      <td>40000</td>\n",
       "      <td>RENT</td>\n",
       "      <td>0.0</td>\n",
       "      <td>EDUCATION</td>\n",
       "      <td>B</td>\n",
       "      <td>10000</td>\n",
       "      <td>12.18</td>\n",
       "      <td>0.25</td>\n",
       "      <td>N</td>\n",
       "    </tr>\n",
       "    <tr>\n",
       "      <th>28127</th>\n",
       "      <td>30</td>\n",
       "      <td>125000</td>\n",
       "      <td>MORTGAGE</td>\n",
       "      <td>14.0</td>\n",
       "      <td>VENTURE</td>\n",
       "      <td>A</td>\n",
       "      <td>5750</td>\n",
       "      <td>7.43</td>\n",
       "      <td>0.05</td>\n",
       "      <td>N</td>\n",
       "    </tr>\n",
       "    <tr>\n",
       "      <th>17835</th>\n",
       "      <td>29</td>\n",
       "      <td>70500</td>\n",
       "      <td>RENT</td>\n",
       "      <td>5.0</td>\n",
       "      <td>PERSONAL</td>\n",
       "      <td>A</td>\n",
       "      <td>35000</td>\n",
       "      <td>8.90</td>\n",
       "      <td>0.50</td>\n",
       "      <td>N</td>\n",
       "    </tr>\n",
       "    <tr>\n",
       "      <th>15419</th>\n",
       "      <td>26</td>\n",
       "      <td>135000</td>\n",
       "      <td>MORTGAGE</td>\n",
       "      <td>11.0</td>\n",
       "      <td>EDUCATION</td>\n",
       "      <td>A</td>\n",
       "      <td>6700</td>\n",
       "      <td>6.03</td>\n",
       "      <td>0.05</td>\n",
       "      <td>N</td>\n",
       "    </tr>\n",
       "    <tr>\n",
       "      <th>20158</th>\n",
       "      <td>30</td>\n",
       "      <td>34000</td>\n",
       "      <td>RENT</td>\n",
       "      <td>0.0</td>\n",
       "      <td>VENTURE</td>\n",
       "      <td>B</td>\n",
       "      <td>4000</td>\n",
       "      <td>10.95</td>\n",
       "      <td>0.12</td>\n",
       "      <td>N</td>\n",
       "    </tr>\n",
       "  </tbody>\n",
       "</table>\n",
       "</div>"
      ],
      "text/plain": [
       "       person_age  person_income person_home_ownership  person_emp_length  \\\n",
       "10775          25          40000                  RENT                0.0   \n",
       "28127          30         125000              MORTGAGE               14.0   \n",
       "17835          29          70500                  RENT                5.0   \n",
       "15419          26         135000              MORTGAGE               11.0   \n",
       "20158          30          34000                  RENT                0.0   \n",
       "\n",
       "      loan_intent loan_grade  loan_amnt  loan_int_rate  loan_percent_income  \\\n",
       "10775   EDUCATION          B      10000          12.18                 0.25   \n",
       "28127     VENTURE          A       5750           7.43                 0.05   \n",
       "17835    PERSONAL          A      35000           8.90                 0.50   \n",
       "15419   EDUCATION          A       6700           6.03                 0.05   \n",
       "20158     VENTURE          B       4000          10.95                 0.12   \n",
       "\n",
       "      cb_person_default_on_file  \n",
       "10775                         N  \n",
       "28127                         N  \n",
       "17835                         N  \n",
       "15419                         N  \n",
       "20158                         N  "
      ]
     },
     "execution_count": 24,
     "metadata": {},
     "output_type": "execute_result"
    }
   ],
   "source": [
    "x_test.head()"
   ]
  },
  {
   "cell_type": "markdown",
   "id": "337c52b5",
   "metadata": {},
   "source": [
    "# Data preparation on train data"
   ]
  },
  {
   "cell_type": "code",
   "execution_count": 28,
   "id": "f26be0be",
   "metadata": {},
   "outputs": [],
   "source": [
    "x_train_num = x_train.select_dtypes(include=[\"float64\",\"int64\"])\n",
    "x_train_cat = x_train.select_dtypes(include=\"object\")"
   ]
  },
  {
   "cell_type": "code",
   "execution_count": 29,
   "id": "81ac53d3",
   "metadata": {},
   "outputs": [],
   "source": [
    "le = x_train_cat[\"loan_grade\"]\n",
    "\n",
    "ohe = x_train_cat[[\"person_home_ownership\",\"loan_intent\"]]"
   ]
  },
  {
   "cell_type": "code",
   "execution_count": 30,
   "id": "c3fa265b",
   "metadata": {},
   "outputs": [],
   "source": [
    "grade_encoder = {'A':1,'B':2,'C':3,'D':4,\"E\":5,\"F\":6,\"G\":7}\n",
    "x_train_cat_le = pd.DataFrame(index=x_train_cat.index)\n",
    "x_train_cat_le[\"loan_grade\"] = x_train_cat[\"loan_grade\"].apply(lambda x:grade_encoder[x])"
   ]
  },
  {
   "cell_type": "code",
   "execution_count": 31,
   "id": "57eb7bf6",
   "metadata": {},
   "outputs": [
    {
     "data": {
      "text/html": [
       "<div>\n",
       "<style scoped>\n",
       "    .dataframe tbody tr th:only-of-type {\n",
       "        vertical-align: middle;\n",
       "    }\n",
       "\n",
       "    .dataframe tbody tr th {\n",
       "        vertical-align: top;\n",
       "    }\n",
       "\n",
       "    .dataframe thead th {\n",
       "        text-align: right;\n",
       "    }\n",
       "</style>\n",
       "<table border=\"1\" class=\"dataframe\">\n",
       "  <thead>\n",
       "    <tr style=\"text-align: right;\">\n",
       "      <th></th>\n",
       "      <th>loan_grade</th>\n",
       "    </tr>\n",
       "  </thead>\n",
       "  <tbody>\n",
       "    <tr>\n",
       "      <th>2009</th>\n",
       "      <td>2</td>\n",
       "    </tr>\n",
       "    <tr>\n",
       "      <th>24210</th>\n",
       "      <td>2</td>\n",
       "    </tr>\n",
       "    <tr>\n",
       "      <th>22659</th>\n",
       "      <td>3</td>\n",
       "    </tr>\n",
       "    <tr>\n",
       "      <th>15764</th>\n",
       "      <td>2</td>\n",
       "    </tr>\n",
       "    <tr>\n",
       "      <th>11378</th>\n",
       "      <td>4</td>\n",
       "    </tr>\n",
       "  </tbody>\n",
       "</table>\n",
       "</div>"
      ],
      "text/plain": [
       "       loan_grade\n",
       "2009            2\n",
       "24210           2\n",
       "22659           3\n",
       "15764           2\n",
       "11378           4"
      ]
     },
     "execution_count": 31,
     "metadata": {},
     "output_type": "execute_result"
    }
   ],
   "source": [
    "x_train_cat_le.head()"
   ]
  },
  {
   "cell_type": "markdown",
   "id": "0622da2f",
   "metadata": {},
   "source": [
    "### scaling the numerical features"
   ]
  },
  {
   "cell_type": "code",
   "execution_count": 32,
   "id": "6185ece1",
   "metadata": {},
   "outputs": [],
   "source": [
    "from sklearn.preprocessing import StandardScaler\n",
    "\n",
    "scaler = StandardScaler()\n",
    "\n",
    "x_train_num_rescaled = pd.DataFrame(scaler.fit_transform(x_train_num),\n",
    "                                   columns = x_train_num.columns,\n",
    "                                   index = x_train_num.index)"
   ]
  },
  {
   "cell_type": "markdown",
   "id": "a98150e8",
   "metadata": {},
   "source": [
    "## one hot encoding on categorical features"
   ]
  },
  {
   "cell_type": "code",
   "execution_count": 33,
   "id": "c08a46e4",
   "metadata": {},
   "outputs": [
    {
     "data": {
      "text/html": [
       "<div>\n",
       "<style scoped>\n",
       "    .dataframe tbody tr th:only-of-type {\n",
       "        vertical-align: middle;\n",
       "    }\n",
       "\n",
       "    .dataframe tbody tr th {\n",
       "        vertical-align: top;\n",
       "    }\n",
       "\n",
       "    .dataframe thead th {\n",
       "        text-align: right;\n",
       "    }\n",
       "</style>\n",
       "<table border=\"1\" class=\"dataframe\">\n",
       "  <thead>\n",
       "    <tr style=\"text-align: right;\">\n",
       "      <th></th>\n",
       "      <th>person_home_ownership_OTHER</th>\n",
       "      <th>person_home_ownership_OWN</th>\n",
       "      <th>person_home_ownership_RENT</th>\n",
       "      <th>loan_intent_EDUCATION</th>\n",
       "      <th>loan_intent_HOMEIMPROVEMENT</th>\n",
       "      <th>loan_intent_MEDICAL</th>\n",
       "      <th>loan_intent_PERSONAL</th>\n",
       "      <th>loan_intent_VENTURE</th>\n",
       "    </tr>\n",
       "  </thead>\n",
       "  <tbody>\n",
       "    <tr>\n",
       "      <th>2009</th>\n",
       "      <td>0.0</td>\n",
       "      <td>0.0</td>\n",
       "      <td>1.0</td>\n",
       "      <td>0.0</td>\n",
       "      <td>0.0</td>\n",
       "      <td>0.0</td>\n",
       "      <td>1.0</td>\n",
       "      <td>0.0</td>\n",
       "    </tr>\n",
       "    <tr>\n",
       "      <th>24210</th>\n",
       "      <td>0.0</td>\n",
       "      <td>1.0</td>\n",
       "      <td>0.0</td>\n",
       "      <td>0.0</td>\n",
       "      <td>0.0</td>\n",
       "      <td>0.0</td>\n",
       "      <td>0.0</td>\n",
       "      <td>1.0</td>\n",
       "    </tr>\n",
       "    <tr>\n",
       "      <th>22659</th>\n",
       "      <td>0.0</td>\n",
       "      <td>0.0</td>\n",
       "      <td>1.0</td>\n",
       "      <td>1.0</td>\n",
       "      <td>0.0</td>\n",
       "      <td>0.0</td>\n",
       "      <td>0.0</td>\n",
       "      <td>0.0</td>\n",
       "    </tr>\n",
       "    <tr>\n",
       "      <th>15764</th>\n",
       "      <td>0.0</td>\n",
       "      <td>0.0</td>\n",
       "      <td>0.0</td>\n",
       "      <td>1.0</td>\n",
       "      <td>0.0</td>\n",
       "      <td>0.0</td>\n",
       "      <td>0.0</td>\n",
       "      <td>0.0</td>\n",
       "    </tr>\n",
       "    <tr>\n",
       "      <th>11378</th>\n",
       "      <td>0.0</td>\n",
       "      <td>0.0</td>\n",
       "      <td>0.0</td>\n",
       "      <td>0.0</td>\n",
       "      <td>0.0</td>\n",
       "      <td>1.0</td>\n",
       "      <td>0.0</td>\n",
       "      <td>0.0</td>\n",
       "    </tr>\n",
       "  </tbody>\n",
       "</table>\n",
       "</div>"
      ],
      "text/plain": [
       "       person_home_ownership_OTHER  person_home_ownership_OWN  \\\n",
       "2009                           0.0                        0.0   \n",
       "24210                          0.0                        1.0   \n",
       "22659                          0.0                        0.0   \n",
       "15764                          0.0                        0.0   \n",
       "11378                          0.0                        0.0   \n",
       "\n",
       "       person_home_ownership_RENT  loan_intent_EDUCATION  \\\n",
       "2009                          1.0                    0.0   \n",
       "24210                         0.0                    0.0   \n",
       "22659                         1.0                    1.0   \n",
       "15764                         0.0                    1.0   \n",
       "11378                         0.0                    0.0   \n",
       "\n",
       "       loan_intent_HOMEIMPROVEMENT  loan_intent_MEDICAL  loan_intent_PERSONAL  \\\n",
       "2009                           0.0                  0.0                   1.0   \n",
       "24210                          0.0                  0.0                   0.0   \n",
       "22659                          0.0                  0.0                   0.0   \n",
       "15764                          0.0                  0.0                   0.0   \n",
       "11378                          0.0                  1.0                   0.0   \n",
       "\n",
       "       loan_intent_VENTURE  \n",
       "2009                   0.0  \n",
       "24210                  1.0  \n",
       "22659                  0.0  \n",
       "15764                  0.0  \n",
       "11378                  0.0  "
      ]
     },
     "execution_count": 33,
     "metadata": {},
     "output_type": "execute_result"
    }
   ],
   "source": [
    "from sklearn.preprocessing import OneHotEncoder\n",
    "\n",
    "encoder = OneHotEncoder(drop = \"first\",sparse=False)\n",
    "\n",
    "x_train_cat_ohe = pd.DataFrame(encoder.fit_transform(ohe),\n",
    "                              columns = encoder.get_feature_names_out(ohe.columns),\n",
    "                              index = ohe.index)\n",
    "x_train_cat_ohe.head()"
   ]
  },
  {
   "cell_type": "code",
   "execution_count": 34,
   "id": "37c814b9",
   "metadata": {},
   "outputs": [],
   "source": [
    "x_trai_cat_transformed = pd.concat([x_train_cat_ohe,x_train_cat_le],axis = 1)"
   ]
  },
  {
   "cell_type": "code",
   "execution_count": 35,
   "id": "e65e9229",
   "metadata": {},
   "outputs": [
    {
     "data": {
      "text/html": [
       "<div>\n",
       "<style scoped>\n",
       "    .dataframe tbody tr th:only-of-type {\n",
       "        vertical-align: middle;\n",
       "    }\n",
       "\n",
       "    .dataframe tbody tr th {\n",
       "        vertical-align: top;\n",
       "    }\n",
       "\n",
       "    .dataframe thead th {\n",
       "        text-align: right;\n",
       "    }\n",
       "</style>\n",
       "<table border=\"1\" class=\"dataframe\">\n",
       "  <thead>\n",
       "    <tr style=\"text-align: right;\">\n",
       "      <th></th>\n",
       "      <th>person_home_ownership_OTHER</th>\n",
       "      <th>person_home_ownership_OWN</th>\n",
       "      <th>person_home_ownership_RENT</th>\n",
       "      <th>loan_intent_EDUCATION</th>\n",
       "      <th>loan_intent_HOMEIMPROVEMENT</th>\n",
       "      <th>loan_intent_MEDICAL</th>\n",
       "      <th>loan_intent_PERSONAL</th>\n",
       "      <th>loan_intent_VENTURE</th>\n",
       "      <th>loan_grade</th>\n",
       "    </tr>\n",
       "  </thead>\n",
       "  <tbody>\n",
       "    <tr>\n",
       "      <th>2009</th>\n",
       "      <td>0.0</td>\n",
       "      <td>0.0</td>\n",
       "      <td>1.0</td>\n",
       "      <td>0.0</td>\n",
       "      <td>0.0</td>\n",
       "      <td>0.0</td>\n",
       "      <td>1.0</td>\n",
       "      <td>0.0</td>\n",
       "      <td>2</td>\n",
       "    </tr>\n",
       "    <tr>\n",
       "      <th>24210</th>\n",
       "      <td>0.0</td>\n",
       "      <td>1.0</td>\n",
       "      <td>0.0</td>\n",
       "      <td>0.0</td>\n",
       "      <td>0.0</td>\n",
       "      <td>0.0</td>\n",
       "      <td>0.0</td>\n",
       "      <td>1.0</td>\n",
       "      <td>2</td>\n",
       "    </tr>\n",
       "    <tr>\n",
       "      <th>22659</th>\n",
       "      <td>0.0</td>\n",
       "      <td>0.0</td>\n",
       "      <td>1.0</td>\n",
       "      <td>1.0</td>\n",
       "      <td>0.0</td>\n",
       "      <td>0.0</td>\n",
       "      <td>0.0</td>\n",
       "      <td>0.0</td>\n",
       "      <td>3</td>\n",
       "    </tr>\n",
       "    <tr>\n",
       "      <th>15764</th>\n",
       "      <td>0.0</td>\n",
       "      <td>0.0</td>\n",
       "      <td>0.0</td>\n",
       "      <td>1.0</td>\n",
       "      <td>0.0</td>\n",
       "      <td>0.0</td>\n",
       "      <td>0.0</td>\n",
       "      <td>0.0</td>\n",
       "      <td>2</td>\n",
       "    </tr>\n",
       "    <tr>\n",
       "      <th>11378</th>\n",
       "      <td>0.0</td>\n",
       "      <td>0.0</td>\n",
       "      <td>0.0</td>\n",
       "      <td>0.0</td>\n",
       "      <td>0.0</td>\n",
       "      <td>1.0</td>\n",
       "      <td>0.0</td>\n",
       "      <td>0.0</td>\n",
       "      <td>4</td>\n",
       "    </tr>\n",
       "  </tbody>\n",
       "</table>\n",
       "</div>"
      ],
      "text/plain": [
       "       person_home_ownership_OTHER  person_home_ownership_OWN  \\\n",
       "2009                           0.0                        0.0   \n",
       "24210                          0.0                        1.0   \n",
       "22659                          0.0                        0.0   \n",
       "15764                          0.0                        0.0   \n",
       "11378                          0.0                        0.0   \n",
       "\n",
       "       person_home_ownership_RENT  loan_intent_EDUCATION  \\\n",
       "2009                          1.0                    0.0   \n",
       "24210                         0.0                    0.0   \n",
       "22659                         1.0                    1.0   \n",
       "15764                         0.0                    1.0   \n",
       "11378                         0.0                    0.0   \n",
       "\n",
       "       loan_intent_HOMEIMPROVEMENT  loan_intent_MEDICAL  loan_intent_PERSONAL  \\\n",
       "2009                           0.0                  0.0                   1.0   \n",
       "24210                          0.0                  0.0                   0.0   \n",
       "22659                          0.0                  0.0                   0.0   \n",
       "15764                          0.0                  0.0                   0.0   \n",
       "11378                          0.0                  1.0                   0.0   \n",
       "\n",
       "       loan_intent_VENTURE  loan_grade  \n",
       "2009                   0.0           2  \n",
       "24210                  1.0           2  \n",
       "22659                  0.0           3  \n",
       "15764                  0.0           2  \n",
       "11378                  0.0           4  "
      ]
     },
     "execution_count": 35,
     "metadata": {},
     "output_type": "execute_result"
    }
   ],
   "source": [
    "x_trai_cat_transformed.head()"
   ]
  },
  {
   "cell_type": "code",
   "execution_count": 36,
   "id": "24bc7537",
   "metadata": {},
   "outputs": [],
   "source": [
    "x_train_transformed = pd.concat([x_train_num,x_trai_cat_transformed], axis=1)"
   ]
  },
  {
   "cell_type": "code",
   "execution_count": 37,
   "id": "15ed07ab",
   "metadata": {},
   "outputs": [
    {
     "data": {
      "text/html": [
       "<div>\n",
       "<style scoped>\n",
       "    .dataframe tbody tr th:only-of-type {\n",
       "        vertical-align: middle;\n",
       "    }\n",
       "\n",
       "    .dataframe tbody tr th {\n",
       "        vertical-align: top;\n",
       "    }\n",
       "\n",
       "    .dataframe thead th {\n",
       "        text-align: right;\n",
       "    }\n",
       "</style>\n",
       "<table border=\"1\" class=\"dataframe\">\n",
       "  <thead>\n",
       "    <tr style=\"text-align: right;\">\n",
       "      <th></th>\n",
       "      <th>person_age</th>\n",
       "      <th>person_income</th>\n",
       "      <th>person_emp_length</th>\n",
       "      <th>loan_amnt</th>\n",
       "      <th>loan_int_rate</th>\n",
       "      <th>loan_percent_income</th>\n",
       "      <th>person_home_ownership_OTHER</th>\n",
       "      <th>person_home_ownership_OWN</th>\n",
       "      <th>person_home_ownership_RENT</th>\n",
       "      <th>loan_intent_EDUCATION</th>\n",
       "      <th>loan_intent_HOMEIMPROVEMENT</th>\n",
       "      <th>loan_intent_MEDICAL</th>\n",
       "      <th>loan_intent_PERSONAL</th>\n",
       "      <th>loan_intent_VENTURE</th>\n",
       "      <th>loan_grade</th>\n",
       "    </tr>\n",
       "  </thead>\n",
       "  <tbody>\n",
       "    <tr>\n",
       "      <th>2009</th>\n",
       "      <td>26</td>\n",
       "      <td>37000</td>\n",
       "      <td>0.0</td>\n",
       "      <td>14000</td>\n",
       "      <td>9.88</td>\n",
       "      <td>0.38</td>\n",
       "      <td>0.0</td>\n",
       "      <td>0.0</td>\n",
       "      <td>1.0</td>\n",
       "      <td>0.0</td>\n",
       "      <td>0.0</td>\n",
       "      <td>0.0</td>\n",
       "      <td>1.0</td>\n",
       "      <td>0.0</td>\n",
       "      <td>2</td>\n",
       "    </tr>\n",
       "    <tr>\n",
       "      <th>24210</th>\n",
       "      <td>35</td>\n",
       "      <td>70000</td>\n",
       "      <td>6.0</td>\n",
       "      <td>17000</td>\n",
       "      <td>9.88</td>\n",
       "      <td>0.24</td>\n",
       "      <td>0.0</td>\n",
       "      <td>1.0</td>\n",
       "      <td>0.0</td>\n",
       "      <td>0.0</td>\n",
       "      <td>0.0</td>\n",
       "      <td>0.0</td>\n",
       "      <td>0.0</td>\n",
       "      <td>1.0</td>\n",
       "      <td>2</td>\n",
       "    </tr>\n",
       "    <tr>\n",
       "      <th>22659</th>\n",
       "      <td>29</td>\n",
       "      <td>42000</td>\n",
       "      <td>0.0</td>\n",
       "      <td>7500</td>\n",
       "      <td>12.87</td>\n",
       "      <td>0.18</td>\n",
       "      <td>0.0</td>\n",
       "      <td>0.0</td>\n",
       "      <td>1.0</td>\n",
       "      <td>1.0</td>\n",
       "      <td>0.0</td>\n",
       "      <td>0.0</td>\n",
       "      <td>0.0</td>\n",
       "      <td>0.0</td>\n",
       "      <td>3</td>\n",
       "    </tr>\n",
       "    <tr>\n",
       "      <th>15764</th>\n",
       "      <td>22</td>\n",
       "      <td>166000</td>\n",
       "      <td>1.0</td>\n",
       "      <td>23450</td>\n",
       "      <td>11.36</td>\n",
       "      <td>0.14</td>\n",
       "      <td>0.0</td>\n",
       "      <td>0.0</td>\n",
       "      <td>0.0</td>\n",
       "      <td>1.0</td>\n",
       "      <td>0.0</td>\n",
       "      <td>0.0</td>\n",
       "      <td>0.0</td>\n",
       "      <td>0.0</td>\n",
       "      <td>2</td>\n",
       "    </tr>\n",
       "    <tr>\n",
       "      <th>11378</th>\n",
       "      <td>26</td>\n",
       "      <td>57800</td>\n",
       "      <td>0.0</td>\n",
       "      <td>15000</td>\n",
       "      <td>10.99</td>\n",
       "      <td>0.22</td>\n",
       "      <td>0.0</td>\n",
       "      <td>0.0</td>\n",
       "      <td>0.0</td>\n",
       "      <td>0.0</td>\n",
       "      <td>0.0</td>\n",
       "      <td>1.0</td>\n",
       "      <td>0.0</td>\n",
       "      <td>0.0</td>\n",
       "      <td>4</td>\n",
       "    </tr>\n",
       "    <tr>\n",
       "      <th>...</th>\n",
       "      <td>...</td>\n",
       "      <td>...</td>\n",
       "      <td>...</td>\n",
       "      <td>...</td>\n",
       "      <td>...</td>\n",
       "      <td>...</td>\n",
       "      <td>...</td>\n",
       "      <td>...</td>\n",
       "      <td>...</td>\n",
       "      <td>...</td>\n",
       "      <td>...</td>\n",
       "      <td>...</td>\n",
       "      <td>...</td>\n",
       "      <td>...</td>\n",
       "      <td>...</td>\n",
       "    </tr>\n",
       "    <tr>\n",
       "      <th>12119</th>\n",
       "      <td>24</td>\n",
       "      <td>80000</td>\n",
       "      <td>8.0</td>\n",
       "      <td>18000</td>\n",
       "      <td>7.90</td>\n",
       "      <td>0.23</td>\n",
       "      <td>0.0</td>\n",
       "      <td>0.0</td>\n",
       "      <td>0.0</td>\n",
       "      <td>0.0</td>\n",
       "      <td>1.0</td>\n",
       "      <td>0.0</td>\n",
       "      <td>0.0</td>\n",
       "      <td>0.0</td>\n",
       "      <td>1</td>\n",
       "    </tr>\n",
       "    <tr>\n",
       "      <th>24423</th>\n",
       "      <td>29</td>\n",
       "      <td>66000</td>\n",
       "      <td>4.0</td>\n",
       "      <td>8200</td>\n",
       "      <td>17.04</td>\n",
       "      <td>0.12</td>\n",
       "      <td>0.0</td>\n",
       "      <td>0.0</td>\n",
       "      <td>0.0</td>\n",
       "      <td>0.0</td>\n",
       "      <td>0.0</td>\n",
       "      <td>0.0</td>\n",
       "      <td>0.0</td>\n",
       "      <td>0.0</td>\n",
       "      <td>5</td>\n",
       "    </tr>\n",
       "    <tr>\n",
       "      <th>14147</th>\n",
       "      <td>23</td>\n",
       "      <td>100000</td>\n",
       "      <td>0.0</td>\n",
       "      <td>7000</td>\n",
       "      <td>8.59</td>\n",
       "      <td>0.07</td>\n",
       "      <td>0.0</td>\n",
       "      <td>0.0</td>\n",
       "      <td>0.0</td>\n",
       "      <td>0.0</td>\n",
       "      <td>0.0</td>\n",
       "      <td>0.0</td>\n",
       "      <td>1.0</td>\n",
       "      <td>0.0</td>\n",
       "      <td>1</td>\n",
       "    </tr>\n",
       "    <tr>\n",
       "      <th>23320</th>\n",
       "      <td>32</td>\n",
       "      <td>66000</td>\n",
       "      <td>1.0</td>\n",
       "      <td>8000</td>\n",
       "      <td>7.29</td>\n",
       "      <td>0.12</td>\n",
       "      <td>0.0</td>\n",
       "      <td>0.0</td>\n",
       "      <td>1.0</td>\n",
       "      <td>0.0</td>\n",
       "      <td>1.0</td>\n",
       "      <td>0.0</td>\n",
       "      <td>0.0</td>\n",
       "      <td>0.0</td>\n",
       "      <td>1</td>\n",
       "    </tr>\n",
       "    <tr>\n",
       "      <th>5640</th>\n",
       "      <td>24</td>\n",
       "      <td>90000</td>\n",
       "      <td>5.0</td>\n",
       "      <td>5000</td>\n",
       "      <td>9.99</td>\n",
       "      <td>0.06</td>\n",
       "      <td>0.0</td>\n",
       "      <td>0.0</td>\n",
       "      <td>1.0</td>\n",
       "      <td>0.0</td>\n",
       "      <td>0.0</td>\n",
       "      <td>0.0</td>\n",
       "      <td>0.0</td>\n",
       "      <td>1.0</td>\n",
       "      <td>2</td>\n",
       "    </tr>\n",
       "  </tbody>\n",
       "</table>\n",
       "<p>24435 rows × 15 columns</p>\n",
       "</div>"
      ],
      "text/plain": [
       "       person_age  person_income  person_emp_length  loan_amnt  loan_int_rate  \\\n",
       "2009           26          37000                0.0      14000           9.88   \n",
       "24210          35          70000                6.0      17000           9.88   \n",
       "22659          29          42000                0.0       7500          12.87   \n",
       "15764          22         166000                1.0      23450          11.36   \n",
       "11378          26          57800                0.0      15000          10.99   \n",
       "...           ...            ...                ...        ...            ...   \n",
       "12119          24          80000                8.0      18000           7.90   \n",
       "24423          29          66000                4.0       8200          17.04   \n",
       "14147          23         100000                0.0       7000           8.59   \n",
       "23320          32          66000                1.0       8000           7.29   \n",
       "5640           24          90000                5.0       5000           9.99   \n",
       "\n",
       "       loan_percent_income  person_home_ownership_OTHER  \\\n",
       "2009                  0.38                          0.0   \n",
       "24210                 0.24                          0.0   \n",
       "22659                 0.18                          0.0   \n",
       "15764                 0.14                          0.0   \n",
       "11378                 0.22                          0.0   \n",
       "...                    ...                          ...   \n",
       "12119                 0.23                          0.0   \n",
       "24423                 0.12                          0.0   \n",
       "14147                 0.07                          0.0   \n",
       "23320                 0.12                          0.0   \n",
       "5640                  0.06                          0.0   \n",
       "\n",
       "       person_home_ownership_OWN  person_home_ownership_RENT  \\\n",
       "2009                         0.0                         1.0   \n",
       "24210                        1.0                         0.0   \n",
       "22659                        0.0                         1.0   \n",
       "15764                        0.0                         0.0   \n",
       "11378                        0.0                         0.0   \n",
       "...                          ...                         ...   \n",
       "12119                        0.0                         0.0   \n",
       "24423                        0.0                         0.0   \n",
       "14147                        0.0                         0.0   \n",
       "23320                        0.0                         1.0   \n",
       "5640                         0.0                         1.0   \n",
       "\n",
       "       loan_intent_EDUCATION  loan_intent_HOMEIMPROVEMENT  \\\n",
       "2009                     0.0                          0.0   \n",
       "24210                    0.0                          0.0   \n",
       "22659                    1.0                          0.0   \n",
       "15764                    1.0                          0.0   \n",
       "11378                    0.0                          0.0   \n",
       "...                      ...                          ...   \n",
       "12119                    0.0                          1.0   \n",
       "24423                    0.0                          0.0   \n",
       "14147                    0.0                          0.0   \n",
       "23320                    0.0                          1.0   \n",
       "5640                     0.0                          0.0   \n",
       "\n",
       "       loan_intent_MEDICAL  loan_intent_PERSONAL  loan_intent_VENTURE  \\\n",
       "2009                   0.0                   1.0                  0.0   \n",
       "24210                  0.0                   0.0                  1.0   \n",
       "22659                  0.0                   0.0                  0.0   \n",
       "15764                  0.0                   0.0                  0.0   \n",
       "11378                  1.0                   0.0                  0.0   \n",
       "...                    ...                   ...                  ...   \n",
       "12119                  0.0                   0.0                  0.0   \n",
       "24423                  0.0                   0.0                  0.0   \n",
       "14147                  0.0                   1.0                  0.0   \n",
       "23320                  0.0                   0.0                  0.0   \n",
       "5640                   0.0                   0.0                  1.0   \n",
       "\n",
       "       loan_grade  \n",
       "2009            2  \n",
       "24210           2  \n",
       "22659           3  \n",
       "15764           2  \n",
       "11378           4  \n",
       "...           ...  \n",
       "12119           1  \n",
       "24423           5  \n",
       "14147           1  \n",
       "23320           1  \n",
       "5640            2  \n",
       "\n",
       "[24435 rows x 15 columns]"
      ]
     },
     "execution_count": 37,
     "metadata": {},
     "output_type": "execute_result"
    }
   ],
   "source": [
    "x_train_transformed"
   ]
  },
  {
   "cell_type": "markdown",
   "id": "5288fa37",
   "metadata": {},
   "source": [
    "## Data preparation on test data"
   ]
  },
  {
   "cell_type": "code",
   "execution_count": 38,
   "id": "2a335297",
   "metadata": {},
   "outputs": [],
   "source": [
    "x_test_num = x_test.select_dtypes(include=[\"int64\",\"float64\"])\n",
    "x_test_cat = x_test.select_dtypes(include=[\"object\"])"
   ]
  },
  {
   "cell_type": "code",
   "execution_count": 39,
   "id": "e1d87150",
   "metadata": {},
   "outputs": [],
   "source": [
    "x_test_num_scaler = pd.DataFrame(scaler.transform(x_test_num),\n",
    "                                columns=x_test_num.columns,\n",
    "                                index = x_test_num.index)"
   ]
  },
  {
   "cell_type": "code",
   "execution_count": null,
   "id": "e72a2475",
   "metadata": {},
   "outputs": [],
   "source": [
    "test_le = x_test_cat[[\"loan_grade\"]]\n",
    "test_ohe = x_test_cat[[\"person_home_ownership\",\"loan_intent\",\"cb_person_default_on_file\"]]"
   ]
  },
  {
   "cell_type": "code",
   "execution_count": null,
   "id": "0e1b8d10",
   "metadata": {},
   "outputs": [],
   "source": [
    "x_test_cat_le = pd.DataFrame(index=x_test_cat.index)\n",
    "x_test_cat_le[\"loan_grand\"] = x_test_cat[\"loan_grade\"].apply(lambda x: grade_encoder[x])\n",
    "x_test_cat_le.head()"
   ]
  },
  {
   "cell_type": "code",
   "execution_count": null,
   "id": "1645f52f",
   "metadata": {},
   "outputs": [],
   "source": [
    "x_test_cat_ohe = pd.DataFrame(encoder.transform(test_ohe),\n",
    "                             columns=encoder.get_feature_names_out(test_ohe.columns),\n",
    "                             index = test_ohe.index)\n",
    "x_test_cat_ohe.head()"
   ]
  },
  {
   "cell_type": "code",
   "execution_count": null,
   "id": "f400a858",
   "metadata": {},
   "outputs": [],
   "source": [
    "x_test_cat_transformed = pd.concat([x_test_cat_ohe,x_test_cat_le], axis = 1)\n",
    "x_test_cat_transformed.head()"
   ]
  },
  {
   "cell_type": "code",
   "execution_count": null,
   "id": "1bcd78dc",
   "metadata": {},
   "outputs": [],
   "source": [
    "x_test_transformed = pd.concat([x_test_num_scaler,x_test_cat_transformed],axis=1)\n",
    "x_test_transformed"
   ]
  },
  {
   "cell_type": "markdown",
   "id": "cf1f1a35",
   "metadata": {},
   "source": [
    "## K-Neareast Neighbour"
   ]
  },
  {
   "cell_type": "code",
   "execution_count": null,
   "id": "4a21f9cf",
   "metadata": {},
   "outputs": [],
   "source": [
    "from sklearn.neighbors import KNeighborsClassifier\n",
    "\n",
    "knn = KNeighborsClassifier()\n",
    "\n",
    "knn.fit(x_train_transformed,y_train)"
   ]
  },
  {
   "cell_type": "code",
   "execution_count": null,
   "id": "3ca9d90e",
   "metadata": {},
   "outputs": [],
   "source": [
    "y_test_pred_knn = knn.predict(x_test_transformed)"
   ]
  },
  {
   "cell_type": "code",
   "execution_count": null,
   "id": "8fea59d0",
   "metadata": {},
   "outputs": [],
   "source": [
    "temp_df = pd.DataFrame({\"Actual\":y_test,\"Predicted\":y_test_pred_knn})\n",
    "\n",
    "temp_df.head()"
   ]
  },
  {
   "cell_type": "code",
   "execution_count": null,
   "id": "3253cc98",
   "metadata": {},
   "outputs": [],
   "source": [
    "from sklearn import metrics\n",
    "metrics.accuracy_score(y_test,y_test_pred_knn)"
   ]
  },
  {
   "cell_type": "markdown",
   "id": "a6319897",
   "metadata": {},
   "source": [
    "# logistic regression"
   ]
  },
  {
   "cell_type": "code",
   "execution_count": null,
   "id": "d77e2d5e",
   "metadata": {},
   "outputs": [],
   "source": [
    "from sklearn.linear_model import LogisticRegression\n",
    "\n",
    "regressor = LogisticRegression()\n",
    "\n",
    "regressor.fit(x_train_transformed,y_train)"
   ]
  },
  {
   "cell_type": "code",
   "execution_count": null,
   "id": "ea8ffbe5",
   "metadata": {},
   "outputs": [],
   "source": [
    "y_test_pred_lr = regressor.predict(x_test_transformed)"
   ]
  },
  {
   "cell_type": "code",
   "execution_count": null,
   "id": "3171c350",
   "metadata": {},
   "outputs": [],
   "source": [
    "metrics.accuracy_score(y_test,y_test_pred_lr)"
   ]
  },
  {
   "cell_type": "markdown",
   "id": "9e9803c0",
   "metadata": {},
   "source": [
    "## support vector Machine"
   ]
  },
  {
   "cell_type": "code",
   "execution_count": null,
   "id": "08c69733",
   "metadata": {},
   "outputs": [],
   "source": [
    "from sklearn.svm import SVC\n",
    "\n",
    "sv = SVC()\n",
    "\n",
    "sv.fit(x_train_transformed,y_train)"
   ]
  },
  {
   "cell_type": "code",
   "execution_count": null,
   "id": "98d58eec",
   "metadata": {},
   "outputs": [],
   "source": [
    "y_test_pred_svc = sv.predict(x_test_transformed)"
   ]
  },
  {
   "cell_type": "code",
   "execution_count": null,
   "id": "cb8f03e3",
   "metadata": {},
   "outputs": [],
   "source": [
    "metrics.accuracy_score(y_test,y_test_pred_svc)"
   ]
  },
  {
   "cell_type": "markdown",
   "id": "566e5bc5",
   "metadata": {},
   "source": [
    "## Decision Tree"
   ]
  },
  {
   "cell_type": "code",
   "execution_count": null,
   "id": "8cecd325",
   "metadata": {},
   "outputs": [],
   "source": [
    "from sklearn.tree import DecisionTreeClassifier\n",
    "\n",
    "classifier = DecisionTreeClassifier()\n",
    "\n",
    "classifier.fit(x_train_transformed,y_train)"
   ]
  },
  {
   "cell_type": "code",
   "execution_count": null,
   "id": "4bd3d1df",
   "metadata": {},
   "outputs": [],
   "source": [
    "y_test_pred_dt = classifier.predict(x_test_transformed)"
   ]
  },
  {
   "cell_type": "code",
   "execution_count": null,
   "id": "30d3097a",
   "metadata": {},
   "outputs": [],
   "source": [
    "metrics.precision_score(y_test,y_test_pred_dt)"
   ]
  },
  {
   "cell_type": "markdown",
   "id": "0377c6bb",
   "metadata": {},
   "source": [
    "## random forest classifier"
   ]
  },
  {
   "cell_type": "code",
   "execution_count": null,
   "id": "518fa388",
   "metadata": {},
   "outputs": [],
   "source": [
    "from sklearn.ensemble import RandomForestClassifier\n",
    "\n",
    "rfc = RandomForestClassifier()\n",
    "\n",
    "rfc.fit(x_train_transformed,y_train)"
   ]
  },
  {
   "cell_type": "code",
   "execution_count": null,
   "id": "b2dfeb2b",
   "metadata": {},
   "outputs": [],
   "source": [
    "y_test_pred_rf = rfc.predict(x_test_transformed)"
   ]
  },
  {
   "cell_type": "code",
   "execution_count": null,
   "id": "065aa863",
   "metadata": {},
   "outputs": [],
   "source": [
    "metrics.accuracy_score(y_test,y_test_pred_rf)"
   ]
  },
  {
   "cell_type": "markdown",
   "id": "3e8e66cf",
   "metadata": {},
   "source": [
    "## visualization"
   ]
  },
  {
   "cell_type": "code",
   "execution_count": null,
   "id": "460ed52f",
   "metadata": {},
   "outputs": [],
   "source": [
    "import plotly.express as px"
   ]
  },
  {
   "cell_type": "code",
   "execution_count": null,
   "id": "fa04ec04",
   "metadata": {},
   "outputs": [],
   "source": [
    "data = {\"Algorithm\":[\"LogisticRegression\",\"KNeighborsClassifier\",\"DecisionTreeClassifier\",\"RandomForestClassifier\",\"SVC\"],\n",
    "       \"Prediction_precentage\":[58.8,21.4,34.4,65.6,21.4]}"
   ]
  },
  {
   "cell_type": "code",
   "execution_count": null,
   "id": "af47b814",
   "metadata": {},
   "outputs": [],
   "source": [
    "visualiztion_data = pd.DataFrame(data)\n",
    "fig = px.line(visualiztion_data, x = \"Algorithm\", y = \"Prediction_precentage\")\n",
    "fig.show()"
   ]
  },
  {
   "cell_type": "code",
   "execution_count": null,
   "id": "6dbcc7d6",
   "metadata": {},
   "outputs": [],
   "source": []
  }
 ],
 "metadata": {
  "kernelspec": {
   "display_name": "Python 3 (ipykernel)",
   "language": "python",
   "name": "python3"
  },
  "language_info": {
   "codemirror_mode": {
    "name": "ipython",
    "version": 3
   },
   "file_extension": ".py",
   "mimetype": "text/x-python",
   "name": "python",
   "nbconvert_exporter": "python",
   "pygments_lexer": "ipython3",
   "version": "3.9.12"
  }
 },
 "nbformat": 4,
 "nbformat_minor": 5
}
